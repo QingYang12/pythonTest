{
 "cells": [
  {
   "cell_type": "markdown",
   "id": "b5ba906a",
   "metadata": {},
   "source": [
    "## Numpy练习\n",
    "### 1.创建数组"
   ]
  },
  {
   "cell_type": "code",
   "execution_count": null,
   "id": "a34d4e68",
   "metadata": {},
   "outputs": [],
   "source": []
  },
  {
   "cell_type": "markdown",
   "id": "7a639392",
   "metadata": {},
   "source": [
    "### 2.变换函数"
   ]
  },
  {
   "cell_type": "code",
   "execution_count": null,
   "id": "ad651a4a",
   "metadata": {},
   "outputs": [],
   "source": []
  },
  {
   "cell_type": "markdown",
   "id": "e8ce6569",
   "metadata": {},
   "source": [
    "### 3.数学函数"
   ]
  },
  {
   "cell_type": "code",
   "execution_count": null,
   "id": "c535a1a4",
   "metadata": {},
   "outputs": [],
   "source": []
  },
  {
   "cell_type": "markdown",
   "id": "e8c2674e",
   "metadata": {},
   "source": [
    "### 4.矩阵\n",
    "4.1 矩阵相乘 "
   ]
  },
  {
   "cell_type": "code",
   "execution_count": null,
   "id": "239ddcb9",
   "metadata": {},
   "outputs": [],
   "source": []
  },
  {
   "cell_type": "markdown",
   "id": "6a9eaf02",
   "metadata": {},
   "source": [
    "4.2 横竖秩不相同相乘。（广播）"
   ]
  },
  {
   "cell_type": "code",
   "execution_count": null,
   "id": "827fcf95",
   "metadata": {},
   "outputs": [],
   "source": []
  }
 ],
 "metadata": {
  "kernelspec": {
   "display_name": "Python 3 (ipykernel)",
   "language": "python",
   "name": "python3"
  },
  "language_info": {
   "codemirror_mode": {
    "name": "ipython",
    "version": 3
   },
   "file_extension": ".py",
   "mimetype": "text/x-python",
   "name": "python",
   "nbconvert_exporter": "python",
   "pygments_lexer": "ipython3",
   "version": "3.9.7"
  }
 },
 "nbformat": 4,
 "nbformat_minor": 5
}

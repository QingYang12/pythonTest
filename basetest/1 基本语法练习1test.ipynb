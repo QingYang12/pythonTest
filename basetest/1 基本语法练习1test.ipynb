{
 "cells": [
  {
   "cell_type": "markdown",
   "id": "fba5efbc",
   "metadata": {},
   "source": [
    "# 基本语法练习test"
   ]
  },
  {
   "cell_type": "markdown",
   "id": "a04b4155",
   "metadata": {},
   "source": [
    "## 1.print常用练习\n",
    "1.直接输出字符串 hello"
   ]
  },
  {
   "cell_type": "code",
   "execution_count": 2,
   "id": "f5de7616",
   "metadata": {},
   "outputs": [
    {
     "name": "stdout",
     "output_type": "stream",
     "text": [
      "hello\n"
     ]
    }
   ],
   "source": [
    "print(\"hello\")"
   ]
  },
  {
   "cell_type": "markdown",
   "id": "431733f8",
   "metadata": {},
   "source": [
    "2.格式化输出 传变量。"
   ]
  },
  {
   "cell_type": "code",
   "execution_count": 13,
   "id": "7fc707bb",
   "metadata": {},
   "outputs": [
    {
     "name": "stdout",
     "output_type": "stream",
     "text": [
      "hello t and abc !\n"
     ]
    }
   ],
   "source": [
    "a=\"t\"\n",
    "b=\"abc\"\n",
    "print(\"hello {} and {} !\" .format(a,b))"
   ]
  },
  {
   "cell_type": "markdown",
   "id": "3f4eaf5e",
   "metadata": {},
   "source": [
    "## 基本类型常用\n",
    "list,dict,tuple,string,numbers\n",
    "1.string"
   ]
  },
  {
   "cell_type": "code",
   "execution_count": 16,
   "id": "50dd357e",
   "metadata": {},
   "outputs": [
    {
     "name": "stdout",
     "output_type": "stream",
     "text": [
      "qwer\n",
      "wer\n",
      "er\n",
      "4\n"
     ]
    }
   ],
   "source": [
    "s=\"qwer\"\n",
    "print(s)\n",
    "s1=s[1:]     # 输出从第2个开始至列表末尾的所有元素\n",
    "print(s1)\n",
    "s2=s[2:5]      # 输出字符串中第三个至第六个之间的字符串\n",
    "print(s2)\n",
    "print(len(s))"
   ]
  },
  {
   "cell_type": "markdown",
   "id": "f2d1cf8a",
   "metadata": {},
   "source": [
    "2.numbers"
   ]
  },
  {
   "cell_type": "code",
   "execution_count": 22,
   "id": "31c8008e",
   "metadata": {},
   "outputs": [
    {
     "name": "stdout",
     "output_type": "stream",
     "text": [
      "1 ,1.1\n"
     ]
    }
   ],
   "source": [
    "n1=1\n",
    "n2=1.1\n",
    "print(\"{} ,{}\" .format(n1,n2))"
   ]
  },
  {
   "cell_type": "markdown",
   "id": "0366af4d",
   "metadata": {},
   "source": [
    "3.tuple"
   ]
  },
  {
   "cell_type": "code",
   "execution_count": 23,
   "id": "d1c072ad",
   "metadata": {},
   "outputs": [
    {
     "name": "stdout",
     "output_type": "stream",
     "text": [
      "(1, 2, 3)\n"
     ]
    }
   ],
   "source": [
    "t=(1,2,3)\n",
    "print(t)"
   ]
  },
  {
   "cell_type": "markdown",
   "id": "c2f51a16",
   "metadata": {},
   "source": [
    "4.list"
   ]
  },
  {
   "cell_type": "code",
   "execution_count": 35,
   "id": "9d992de9",
   "metadata": {},
   "outputs": [
    {
     "name": "stdout",
     "output_type": "stream",
     "text": [
      "3\n",
      "2\n",
      "[1, 2, 3, 4, 5, 6, 7]\n",
      "5\n",
      "[1, 2, 3, 4, 5, 6, 7, 8]\n",
      "[1, 2, 3, 4, 5, 6, 7, 8, 9, 10]\n",
      "[22, 1, 2, 3, 4, 5, 6, 7, 8, 9, 10]\n",
      "[10, 9, 8, 7, 6, 5, 4, 3, 2, 1, 22]\n"
     ]
    }
   ],
   "source": [
    "arr=[1,2,3,3,4,5,6,7]\n",
    "print(arr[3])  \n",
    "arr2=[9,10]\n",
    "print(arr.count(3))  #统计\n",
    "arr.remove(3)       #移除\n",
    "print(arr)\n",
    "print(arr.index(6))\n",
    "arr.append(8)       #追加\n",
    "print(arr)\n",
    "arr.extend(arr2)    #扩充\n",
    "print(arr)\n",
    "arr.insert(0,22)     #插入\n",
    "print(arr)\n",
    "arr.reverse() #反转\n",
    "print( arr) "
   ]
  },
  {
   "cell_type": "code",
   "execution_count": null,
   "id": "5820f0dd",
   "metadata": {},
   "outputs": [],
   "source": [
    "5.dict"
   ]
  },
  {
   "cell_type": "code",
   "execution_count": 50,
   "id": "51313730",
   "metadata": {},
   "outputs": [
    {
     "name": "stdout",
     "output_type": "stream",
     "text": [
      "aaa\n",
      "aaa\n",
      "dict_items([('a', 'aaa'), ('b', 'bbb'), ('c', 'ccc')])\n",
      "dict_keys(['a', 'b', 'c'])\n",
      "dict_values(['aaa', 'bbb', 'ccc'])\n",
      "{'b': 'bbb', 'c': 'ccc'}\n",
      "键 a 不存在\n"
     ]
    }
   ],
   "source": [
    "d={\"a\":\"aaa\",\"b\":\"bbb\",\"c\":\"ccc\"}\n",
    "print(d.get(\"a\"))\n",
    "print(d[\"a\"])\n",
    "print(d.items())\n",
    "print(d.keys())\n",
    "print(d.values())\n",
    "del d['a'] \n",
    "print(d)\n",
    "if  'a' in d:\n",
    "    print(\"键 a 存在\")\n",
    "else :\n",
    "    print(\"键 a 不存在\")"
   ]
  },
  {
   "cell_type": "markdown",
   "id": "b7b1438c",
   "metadata": {},
   "source": [
    "## 循环\n",
    " 1.range(9) #范围 \n",
    "   range(0,9,2) #范围 开始 结束 步长\n",
    " 2.for \n",
    " 3.while"
   ]
  },
  {
   "cell_type": "code",
   "execution_count": 61,
   "id": "d5e096a1",
   "metadata": {},
   "outputs": [
    {
     "name": "stdout",
     "output_type": "stream",
     "text": [
      "0 1 2 3 4 5 6 7 8 \n",
      "0 2 4 6 8 \n",
      "1 2 3 4 5 6 7 8 9 "
     ]
    }
   ],
   "source": [
    "for i in range(9):\n",
    "    print(i,end=\" \")\n",
    "print()\n",
    "for i in range(0,9,2):\n",
    "    print(i,end=\" \")\n",
    "print()\n",
    "a=0\n",
    "while a <9:\n",
    "    a+=1\n",
    "    print(a,end=\" \")"
   ]
  },
  {
   "cell_type": "markdown",
   "id": "519290b3",
   "metadata": {},
   "source": [
    "## 常用\n"
   ]
  },
  {
   "cell_type": "code",
   "execution_count": 63,
   "id": "0139f76a",
   "metadata": {},
   "outputs": [
    {
     "name": "stdout",
     "output_type": "stream",
     "text": [
      "8\n",
      "<class 'int'>\n",
      "<class 'str'>\n",
      "<class 'list'>\n",
      "(1, 2, 3)\n"
     ]
    }
   ],
   "source": [
    "a=2\n",
    "b=3\n",
    "c=\"4\"\n",
    "d=[1,2,3]\n",
    "s=a**b\n",
    "print(s)\n",
    "print(type(a))\n",
    "e=str(a)\n",
    "print(type(e))\n",
    "print(type(d))\n",
    "print(tuple(d))"
   ]
  }
 ],
 "metadata": {
  "kernelspec": {
   "display_name": "Python 3 (ipykernel)",
   "language": "python",
   "name": "python3"
  },
  "language_info": {
   "codemirror_mode": {
    "name": "ipython",
    "version": 3
   },
   "file_extension": ".py",
   "mimetype": "text/x-python",
   "name": "python",
   "nbconvert_exporter": "python",
   "pygments_lexer": "ipython3",
   "version": "3.9.7"
  }
 },
 "nbformat": 4,
 "nbformat_minor": 5
}

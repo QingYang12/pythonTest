{
 "cells": [
  {
   "cell_type": "markdown",
   "id": "20439463",
   "metadata": {},
   "source": [
    "## 定义函数\n",
    "1.定义函数"
   ]
  },
  {
   "cell_type": "code",
   "execution_count": 10,
   "id": "d4342ab0",
   "metadata": {},
   "outputs": [
    {
     "name": "stdout",
     "output_type": "stream",
     "text": [
      "1\n",
      "1 3\n"
     ]
    }
   ],
   "source": [
    "def functiona (var):\n",
    "    print(var)\n",
    "\n",
    "functiona(1)\n",
    "\n",
    "\n",
    "\n",
    "def functionb (var,var2=3):\n",
    "    print(var,var2)\n",
    "\n",
    "functionb(1,)"
   ]
  },
  {
   "cell_type": "code",
   "execution_count": null,
   "id": "aebf63bd",
   "metadata": {},
   "outputs": [],
   "source": [
    "2.不定长函数"
   ]
  },
  {
   "cell_type": "code",
   "execution_count": 11,
   "id": "6c23baf7",
   "metadata": {},
   "outputs": [
    {
     "name": "stdout",
     "output_type": "stream",
     "text": [
      "1\n",
      "2\n",
      "3\n",
      "4\n",
      "5\n",
      "6\n",
      "7\n"
     ]
    }
   ],
   "source": [
    "def functiona (var, *varitem):\n",
    "    print(var)\n",
    "    for i in varitem:\n",
    "        print(i)\n",
    "\n",
    "functiona(1,2,3,4,5,6,7)"
   ]
  },
  {
   "cell_type": "markdown",
   "id": "6fa50264",
   "metadata": {},
   "source": [
    "## 定义类\n",
    "1.定义类"
   ]
  },
  {
   "cell_type": "code",
   "execution_count": 15,
   "id": "497553b8",
   "metadata": {},
   "outputs": [
    {
     "name": "stdout",
     "output_type": "stream",
     "text": [
      "1\n",
      "ttt man\n"
     ]
    }
   ],
   "source": [
    "class Test:\n",
    "    var1=0\n",
    "    def __init__(self,name,sex):\n",
    "        self.name=name\n",
    "        self.sex=sex\n",
    "        Test.var1 +=1\n",
    "    def test1(self):\n",
    "        print(self.var1)\n",
    "    def test2(self):\n",
    "        print(self.name,self.sex)\n",
    "        \n",
    "t=Test(\"ttt\",\"man\")\n",
    "t.test1()\n",
    "t.test2()"
   ]
  },
  {
   "cell_type": "markdown",
   "id": "c3b62f8e",
   "metadata": {},
   "source": [
    "2.try except 抛异常"
   ]
  },
  {
   "cell_type": "code",
   "execution_count": 27,
   "id": "bd5283e5",
   "metadata": {},
   "outputs": [
    {
     "ename": "SyntaxError",
     "evalue": "invalid syntax (838114930.py, line 3)",
     "output_type": "error",
     "traceback": [
      "\u001b[0;36m  File \u001b[0;32m\"/var/folders/st/90r8rbhs3j16jvg9j1bm00k80000gn/T/ipykernel_45768/838114930.py\"\u001b[0;36m, line \u001b[0;32m3\u001b[0m\n\u001b[0;31m    except Exception,e:\u001b[0m\n\u001b[0m                    ^\u001b[0m\n\u001b[0;31mSyntaxError\u001b[0m\u001b[0;31m:\u001b[0m invalid syntax\n"
     ]
    }
   ],
   "source": [
    "try:\n",
    "  raise Exception('错误了。。。')\n",
    "except Exception,e:\n",
    "  print e"
   ]
  }
 ],
 "metadata": {
  "kernelspec": {
   "display_name": "Python 3 (ipykernel)",
   "language": "python",
   "name": "python3"
  },
  "language_info": {
   "codemirror_mode": {
    "name": "ipython",
    "version": 3
   },
   "file_extension": ".py",
   "mimetype": "text/x-python",
   "name": "python",
   "nbconvert_exporter": "python",
   "pygments_lexer": "ipython3",
   "version": "3.9.7"
  }
 },
 "nbformat": 4,
 "nbformat_minor": 5
}

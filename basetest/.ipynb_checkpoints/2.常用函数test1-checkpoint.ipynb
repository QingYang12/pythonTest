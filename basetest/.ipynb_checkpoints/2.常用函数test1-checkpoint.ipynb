{
 "cells": [
  {
   "cell_type": "markdown",
   "id": "68999d60",
   "metadata": {},
   "source": [
    "## 常用函数练习\n",
    "### 1.时间日期转换"
   ]
  },
  {
   "cell_type": "code",
   "execution_count": 4,
   "id": "ddd816e8",
   "metadata": {},
   "outputs": [
    {
     "name": "stdout",
     "output_type": "stream",
     "text": [
      "1677343758.568436\n",
      "time.struct_time(tm_year=2023, tm_mon=2, tm_mday=26, tm_hour=0, tm_min=49, tm_sec=18, tm_wday=6, tm_yday=57, tm_isdst=0)\n",
      "2023-02-26 00:49:18\n"
     ]
    }
   ],
   "source": [
    "import time \n",
    "#时间戳\n",
    "ticks=time.time()\n",
    "print(ticks)\n",
    "#获取当前时间\n",
    "localtime=time.localtime(time.time())\n",
    "print(localtime)\n",
    "#格式化日期\n",
    "#格式 YYYY-MM-DD HH:mm:ss\n",
    "strftime=time.strftime(\"%Y-%m-%d %H:%M:%S\",time.localtime())\n",
    "print(strftime)"
   ]
  },
  {
   "cell_type": "markdown",
   "id": "fa6bf265",
   "metadata": {},
   "source": [
    "### 2.正则\n",
    "用法参考：https://m.runoob.com/python/python-reg-expressions.html\n",
    "正则表达式参考：https://www.runoob.com/regexp/regexp-syntax.html\n",
    "正则表达式语法生成器：https://www.sojson.com/regex/generate"
   ]
  },
  {
   "cell_type": "code",
   "execution_count": 6,
   "id": "aa3e3208",
   "metadata": {},
   "outputs": [
    {
     "name": "stdout",
     "output_type": "stream",
     "text": [
      "matchObj.group() :  Cats are smarter than dogs\n",
      "matchObj.group(1) :  Cats\n",
      "matchObj.group(2) :  smarter\n"
     ]
    }
   ],
   "source": [
    "import re\n",
    " \n",
    "line = \"Cats are smarter than dogs\"\n",
    " \n",
    "matchObj = re.match( r'(.*) are (.*?) .*', line, re.M|re.I)\n",
    " \n",
    "if matchObj: \n",
    "   print(\"matchObj.group() : \", matchObj.group())\n",
    "   print(\"matchObj.group(1) : \", matchObj.group(1)) \n",
    "   print(\"matchObj.group(2) : \", matchObj.group(2)) "
   ]
  }
 ],
 "metadata": {
  "kernelspec": {
   "display_name": "Python 3 (ipykernel)",
   "language": "python",
   "name": "python3"
  },
  "language_info": {
   "codemirror_mode": {
    "name": "ipython",
    "version": 3
   },
   "file_extension": ".py",
   "mimetype": "text/x-python",
   "name": "python",
   "nbconvert_exporter": "python",
   "pygments_lexer": "ipython3",
   "version": "3.9.7"
  }
 },
 "nbformat": 4,
 "nbformat_minor": 5
}

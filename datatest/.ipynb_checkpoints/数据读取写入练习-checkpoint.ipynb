{
 "cells": [
  {
   "cell_type": "markdown",
   "id": "a6175f45",
   "metadata": {},
   "source": [
    "## 数据读取写入练习\n",
    "### 1.json\n",
    "1.1  python对象变成json对象"
   ]
  },
  {
   "cell_type": "code",
   "execution_count": 4,
   "id": "5d8aefcf",
   "metadata": {},
   "outputs": [
    {
     "name": "stdout",
     "output_type": "stream",
     "text": [
      "{\"testlabel1\": \"testvalue1\", \"testlabel2\": \"testvalue2\"}\n"
     ]
    }
   ],
   "source": [
    "import json\n",
    "\n",
    "data={\"testlabel1\":\"testvalue1\",\"testlabel2\":\"testvalue2\"}\n",
    "jsondata=json.dumps(data)\n",
    "print(jsondata)"
   ]
  },
  {
   "cell_type": "markdown",
   "id": "e1b90508",
   "metadata": {},
   "source": [
    "1.2  json对象变成python对象"
   ]
  },
  {
   "cell_type": "code",
   "execution_count": 5,
   "id": "3651f2f1",
   "metadata": {},
   "outputs": [
    {
     "name": "stdout",
     "output_type": "stream",
     "text": [
      "{'testlabel1': 'testvalue1', 'testlabel2': 'testvalue2'}\n"
     ]
    }
   ],
   "source": [
    "import json\n",
    "\n",
    "jsondata='{\"testlabel1\": \"testvalue1\", \"testlabel2\": \"testvalue2\"}'\n",
    "data=json.loads(jsondata)\n",
    "print(data)"
   ]
  },
  {
   "cell_type": "code",
   "execution_count": null,
   "id": "fa1dc45d",
   "metadata": {},
   "outputs": [],
   "source": []
  }
 ],
 "metadata": {
  "kernelspec": {
   "display_name": "Python 3 (ipykernel)",
   "language": "python",
   "name": "python3"
  },
  "language_info": {
   "codemirror_mode": {
    "name": "ipython",
    "version": 3
   },
   "file_extension": ".py",
   "mimetype": "text/x-python",
   "name": "python",
   "nbconvert_exporter": "python",
   "pygments_lexer": "ipython3",
   "version": "3.9.7"
  }
 },
 "nbformat": 4,
 "nbformat_minor": 5
}
